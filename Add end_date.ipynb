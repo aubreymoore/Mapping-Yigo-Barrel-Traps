{
 "cells": [
  {
   "cell_type": "raw",
   "metadata": {},
   "source": [
    "df = pd.DataFrame({\n",
    "    'id': ['abc', 'abc', 'abc', 'def', 'def', 'def', 'def'],\n",
    "    'date': [666, 505, 501, 418, 312, 212, 666]})\n",
    "df.sort('date', ascending=False, inplace=True)\n",
    "df.reset_index(drop=True,inplace=True)\n",
    "\n",
    "#And here's a function that, for each group, appends the previous date:\n",
    "\n",
    "def prev_dates(g):\n",
    "    g.sort(columns=['date'])\n",
    "    g['prev'] = g.date.shift(-1)\n",
    "    return g\n",
    "\n",
    "#So all that's needed is to connect things:\n",
    "\n",
    "df.groupby(df.id).apply(prev_dates)"
   ]
  },
  {
   "cell_type": "code",
   "execution_count": 13,
   "metadata": {
    "collapsed": true
   },
   "outputs": [],
   "source": [
    "import pandas as pd"
   ]
  },
  {
   "cell_type": "code",
   "execution_count": 14,
   "metadata": {
    "collapsed": true
   },
   "outputs": [],
   "source": [
    "pd.set_option('display.max_rows', 2)"
   ]
  },
  {
   "cell_type": "code",
   "execution_count": 15,
   "metadata": {
    "collapsed": true
   },
   "outputs": [],
   "source": [
    "trap_catch_csv = 'guam_trap_catch.csv'"
   ]
  },
  {
   "cell_type": "code",
   "execution_count": 16,
   "metadata": {
    "collapsed": false
   },
   "outputs": [
    {
     "data": {
      "text/html": [
       "<div>\n",
       "<table border=\"1\" class=\"dataframe\">\n",
       "  <thead>\n",
       "    <tr style=\"text-align: right;\">\n",
       "      <th></th>\n",
       "      <th>trap_id</th>\n",
       "      <th>end_date</th>\n",
       "      <th>ntrapped</th>\n",
       "    </tr>\n",
       "  </thead>\n",
       "  <tbody>\n",
       "    <tr>\n",
       "      <th>0</th>\n",
       "      <td>0002MAN</td>\n",
       "      <td>2012-08-29</td>\n",
       "      <td>1</td>\n",
       "    </tr>\n",
       "    <tr>\n",
       "      <th>...</th>\n",
       "      <td>...</td>\n",
       "      <td>...</td>\n",
       "      <td>...</td>\n",
       "    </tr>\n",
       "    <tr>\n",
       "      <th>89273</th>\n",
       "      <td>X9999</td>\n",
       "      <td>2008-04-09</td>\n",
       "      <td>0</td>\n",
       "    </tr>\n",
       "  </tbody>\n",
       "</table>\n",
       "<p>89274 rows × 3 columns</p>\n",
       "</div>"
      ],
      "text/plain": [
       "       trap_id   end_date  ntrapped\n",
       "0      0002MAN 2012-08-29         1\n",
       "...        ...        ...       ...\n",
       "89273    X9999 2008-04-09         0\n",
       "\n",
       "[89274 rows x 3 columns]"
      ]
     },
     "execution_count": 16,
     "metadata": {},
     "output_type": "execute_result"
    }
   ],
   "source": [
    "df = pd.DataFrame.from_csv(trap_catch_csv, index_col=False, parse_dates=[1])\n",
    "df"
   ]
  },
  {
   "cell_type": "code",
   "execution_count": 17,
   "metadata": {
    "collapsed": false
   },
   "outputs": [
    {
     "data": {
      "text/html": [
       "<div>\n",
       "<table border=\"1\" class=\"dataframe\">\n",
       "  <thead>\n",
       "    <tr style=\"text-align: right;\">\n",
       "      <th></th>\n",
       "      <th>trap_id</th>\n",
       "      <th>end_date</th>\n",
       "      <th>ntrapped</th>\n",
       "      <th>start_date</th>\n",
       "    </tr>\n",
       "  </thead>\n",
       "  <tbody>\n",
       "    <tr>\n",
       "      <th>0</th>\n",
       "      <td>X0125</td>\n",
       "      <td>2015-12-31</td>\n",
       "      <td>2</td>\n",
       "      <td>2015-07-28</td>\n",
       "    </tr>\n",
       "    <tr>\n",
       "      <th>...</th>\n",
       "      <td>...</td>\n",
       "      <td>...</td>\n",
       "      <td>...</td>\n",
       "      <td>...</td>\n",
       "    </tr>\n",
       "    <tr>\n",
       "      <th>89273</th>\n",
       "      <td>x2007M</td>\n",
       "      <td>NaT</td>\n",
       "      <td>0</td>\n",
       "      <td>NaT</td>\n",
       "    </tr>\n",
       "  </tbody>\n",
       "</table>\n",
       "<p>89274 rows × 4 columns</p>\n",
       "</div>"
      ],
      "text/plain": [
       "      trap_id   end_date  ntrapped start_date\n",
       "0       X0125 2015-12-31         2 2015-07-28\n",
       "...       ...        ...       ...        ...\n",
       "89273  x2007M        NaT         0        NaT\n",
       "\n",
       "[89274 rows x 4 columns]"
      ]
     },
     "execution_count": 17,
     "metadata": {},
     "output_type": "execute_result"
    }
   ],
   "source": [
    "df.sort('end_date', ascending=False, inplace=True)\n",
    "df.reset_index(drop=True,inplace=True)\n",
    "\n",
    "#And here's a function that, for each group, appends the previous date:\n",
    "\n",
    "def prev_dates(g):\n",
    "    g.sort(columns=['end_date'])\n",
    "    g['start_date'] = g.end_date.shift(-1)\n",
    "    return g\n",
    "\n",
    "#So all that's needed is to connect things:\n",
    "\n",
    "df = df.groupby(df.trap_id).apply(prev_dates)\n",
    "df"
   ]
  },
  {
   "cell_type": "code",
   "execution_count": 18,
   "metadata": {
    "collapsed": false
   },
   "outputs": [
    {
     "name": "stderr",
     "output_type": "stream",
     "text": [
      "/home/aubreymoore/anaconda/lib/python2.7/site-packages/IPython/kernel/__main__.py:2: SettingWithCopyWarning: \n",
      "A value is trying to be set on a copy of a slice from a DataFrame\n",
      "\n",
      "See the the caveats in the documentation: http://pandas.pydata.org/pandas-docs/stable/indexing.html#indexing-view-versus-copy\n",
      "  from IPython.kernel.zmq import kernelapp as app\n"
     ]
    },
    {
     "data": {
      "text/html": [
       "<div>\n",
       "<table border=\"1\" class=\"dataframe\">\n",
       "  <thead>\n",
       "    <tr style=\"text-align: right;\">\n",
       "      <th></th>\n",
       "      <th>trap_id</th>\n",
       "      <th>start_date</th>\n",
       "      <th>end_date</th>\n",
       "      <th>ntrapped</th>\n",
       "    </tr>\n",
       "  </thead>\n",
       "  <tbody>\n",
       "    <tr>\n",
       "      <th>0</th>\n",
       "      <td>X0125</td>\n",
       "      <td>2015-07-28</td>\n",
       "      <td>2015-12-31</td>\n",
       "      <td>2</td>\n",
       "    </tr>\n",
       "    <tr>\n",
       "      <th>...</th>\n",
       "      <td>...</td>\n",
       "      <td>...</td>\n",
       "      <td>...</td>\n",
       "      <td>...</td>\n",
       "    </tr>\n",
       "    <tr>\n",
       "      <th>89026</th>\n",
       "      <td>Uber Trap</td>\n",
       "      <td>2007-10-05</td>\n",
       "      <td>2007-10-07</td>\n",
       "      <td>2</td>\n",
       "    </tr>\n",
       "  </tbody>\n",
       "</table>\n",
       "<p>85615 rows × 4 columns</p>\n",
       "</div>"
      ],
      "text/plain": [
       "         trap_id start_date   end_date  ntrapped\n",
       "0          X0125 2015-07-28 2015-12-31         2\n",
       "...          ...        ...        ...       ...\n",
       "89026  Uber Trap 2007-10-05 2007-10-07         2\n",
       "\n",
       "[85615 rows x 4 columns]"
      ]
     },
     "execution_count": 18,
     "metadata": {},
     "output_type": "execute_result"
    }
   ],
   "source": [
    "df = df[['trap_id', 'start_date','end_date','ntrapped']]\n",
    "df.dropna(inplace=True)\n",
    "df.to_csv('guam_trap_catch2.csv', index=False)\n",
    "df"
   ]
  },
  {
   "cell_type": "code",
   "execution_count": null,
   "metadata": {
    "collapsed": true
   },
   "outputs": [],
   "source": []
  }
 ],
 "metadata": {
  "kernelspec": {
   "display_name": "Python 2",
   "language": "python",
   "name": "python2"
  },
  "language_info": {
   "codemirror_mode": {
    "name": "ipython",
    "version": 2
   },
   "file_extension": ".py",
   "mimetype": "text/x-python",
   "name": "python",
   "nbconvert_exporter": "python",
   "pygments_lexer": "ipython2",
   "version": "2.7.10"
  }
 },
 "nbformat": 4,
 "nbformat_minor": 0
}
