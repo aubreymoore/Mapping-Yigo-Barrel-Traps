{
 "cells": [
  {
   "cell_type": "code",
   "execution_count": 131,
   "metadata": {
    "collapsed": false
   },
   "outputs": [],
   "source": [
    "%matplotlib inline\n",
    "import matplotlib\n",
    "import matplotlib.pyplot as plt\n",
    "import pandas as pd\n",
    "import numpy as np  \n",
    "from scipy.interpolate import Rbf  \n",
    "import utm\n",
    "import pymysql\n",
    "import datetime\n",
    "from datetime import date, timedelta\n",
    "\n",
    "import timeit\n",
    "\n",
    "from IPython.html.widgets import FloatProgress\n",
    "from IPython.display import display\n",
    "from time import sleep"
   ]
  },
  {
   "cell_type": "code",
   "execution_count": 132,
   "metadata": {
    "collapsed": true
   },
   "outputs": [],
   "source": [
    "pd.set_option('display.max_rows', 2)"
   ]
  },
  {
   "cell_type": "markdown",
   "metadata": {},
   "source": [
    "## Functions"
   ]
  },
  {
   "cell_type": "code",
   "execution_count": 133,
   "metadata": {
    "collapsed": true
   },
   "outputs": [],
   "source": [
    "def generate_red_colormap():\n",
    "    cdict = {'red': ((0.0, 0.0, 1.0),\n",
    "                     (1.0, 1.0, 0.0)),\n",
    "             'green': ((0.0, 0.0, 1.0),\n",
    "                       (1.0, 0.0, 0.0)),\n",
    "             'blue': ((0.0, 0.0, 1.0),\n",
    "                      (1.0, 0.0, 0.0))}\n",
    "    return matplotlib.colors.LinearSegmentedColormap('my_colormap',cdict,256)"
   ]
  },
  {
   "cell_type": "code",
   "execution_count": 134,
   "metadata": {
    "collapsed": true
   },
   "outputs": [],
   "source": [
    "def cmap_discretize(cmap, N):\n",
    "    \"\"\"Return a discrete colormap from the continuous colormap cmap.\n",
    "    \n",
    "        cmap: colormap instance, eg. cm.jet. \n",
    "        N: number of colors.\n",
    "    \n",
    "    Example\n",
    "        x = resize(arange(100), (5,100))\n",
    "        djet = cmap_discretize(cm.jet, 5)\n",
    "        imshow(x, cmap=djet)\n",
    "    \"\"\"\n",
    "\n",
    "    if type(cmap) == str:\n",
    "        cmap = plt.get_cmap(cmap)\n",
    "    colors_i = np.concatenate((np.linspace(0, 1., N), (0.,0.,0.,0.)))\n",
    "    colors_rgba = cmap(colors_i)\n",
    "    indices = np.linspace(0, 1., N+1)\n",
    "    cdict = {}\n",
    "    for ki,key in enumerate(('red','green','blue')):\n",
    "        cdict[key] = [ (indices[i], colors_rgba[i-1,ki], colors_rgba[i,ki]) for i in xrange(N+1) ]\n",
    "    # Return colormap object.\n",
    "    return matplotlib.colors.LinearSegmentedColormap(cmap.name + \"_%d\"%N, cdict, 1024)"
   ]
  },
  {
   "cell_type": "markdown",
   "metadata": {},
   "source": [
    "#Get data"
   ]
  },
  {
   "cell_type": "code",
   "execution_count": 135,
   "metadata": {
    "collapsed": false
   },
   "outputs": [],
   "source": [
    "#trap_prefix = 'PA'\n",
    "#trap_prefix = 'AP'\n",
    "trap_prefix = 'guam'\n",
    "\n",
    "trap_location_csv = trap_prefix + '_trap_location.csv'\n",
    "trap_catch_csv = trap_prefix + '_trap_catch.csv'\n",
    "traps_catch_pdf = trap_prefix + '_trap_catch.pdf'\n",
    "\n",
    "mask_csv = False\n",
    "mask_csv = 'guam_mask.csv'\n",
    "\n",
    "levels = [0.0, 0.1, 0.2, 0.3, 0.4, 0.5]\n",
    "\n",
    "add_jitter = False\n",
    "add_jitter = True\n",
    "\n",
    "calc_df_daily = True\n",
    "\n",
    "d1 = date(2015, 1, 1)\n",
    "d2 = date(2016, 3, 1)\n",
    "\n",
    "show_trap_labels = True\n",
    "\n",
    "marker_size = 100\n",
    "\n",
    "max_trap_catch_scale = 0.5\n",
    "\n",
    "epsilon = 100\n",
    "smooth = 0.1\n",
    "\n",
    "margin = 0.1"
   ]
  },
  {
   "cell_type": "markdown",
   "metadata": {},
   "source": [
    "### Get mask"
   ]
  },
  {
   "cell_type": "code",
   "execution_count": 136,
   "metadata": {
    "collapsed": false
   },
   "outputs": [],
   "source": [
    "if mask_csv:\n",
    "    df_poly = pd.DataFrame.from_csv(mask_csv, index_col=False)\n",
    "    f = FloatProgress(min=0, max=len(df_poly))\n",
    "    display(f)\n",
    "    df_poly['northing'] = 0.0; df_poly['easting'] = 0.0; df_poly['zone'] = ''\n",
    "    i = 0\n",
    "    for index, row in df_poly.iterrows():\n",
    "        u = utm.from_latlon(row.latitude, row.longitude)\n",
    "        df_poly.easting[index] = u[0]\n",
    "        df_poly.northing[index] = u[1]\n",
    "        df_poly.zone[index] = u[2]\n",
    "        i += 1\n",
    "        f.value = i\n",
    "    myp = zip(df_poly.easting, df_poly.northing)\n",
    "    myp\n",
    "    \n",
    "# NOTE: bounding box not set if a mask is not used\n",
    "    min_easting = df_poly.easting.min()\n",
    "    max_easting = df_poly.easting.max()\n",
    "    min_northing = df_poly.northing.min()\n",
    "    max_northing = df_poly.northing.max()\n",
    "    df_poly"
   ]
  },
  {
   "cell_type": "raw",
   "metadata": {
    "collapsed": false
   },
   "source": [
    "    # Fix this\n",
    "    myp = [\n",
    "            (df_poly.easting[0], df_poly.northing[0]),\n",
    "            (df_poly.easting[1], df_poly.northing[1]),\n",
    "            (df_poly.easting[2], df_poly.northing[2]),\n",
    "            (df_poly.easting[3], df_poly.northing[3]),\n",
    "            (df_poly.easting[4], df_poly.northing[4]),\n",
    "            (df_poly.easting[5], df_poly.northing[5]),\n",
    "            (df_poly.easting[6], df_poly.northing[6]),\n",
    "            (df_poly.easting[7], df_poly.northing[7]),\n",
    "            (df_poly.easting[8], df_poly.northing[8]),\n",
    "            (df_poly.easting[9], df_poly.northing[9])\n",
    "            ]\n",
    "    df_poly"
   ]
  },
  {
   "cell_type": "markdown",
   "metadata": {},
   "source": [
    "###Get trap location data"
   ]
  },
  {
   "cell_type": "code",
   "execution_count": 137,
   "metadata": {
    "collapsed": false
   },
   "outputs": [
    {
     "data": {
      "text/html": [
       "<div>\n",
       "<table border=\"1\" class=\"dataframe\">\n",
       "  <thead>\n",
       "    <tr style=\"text-align: right;\">\n",
       "      <th></th>\n",
       "      <th>trap_id</th>\n",
       "      <th>latitude</th>\n",
       "      <th>longitude</th>\n",
       "    </tr>\n",
       "  </thead>\n",
       "  <tbody>\n",
       "    <tr>\n",
       "      <th>0</th>\n",
       "      <td>0002MAN</td>\n",
       "      <td>13.45348</td>\n",
       "      <td>144.79247</td>\n",
       "    </tr>\n",
       "    <tr>\n",
       "      <th>...</th>\n",
       "      <td>...</td>\n",
       "      <td>...</td>\n",
       "      <td>...</td>\n",
       "    </tr>\n",
       "    <tr>\n",
       "      <th>2266</th>\n",
       "      <td>X9999</td>\n",
       "      <td>13.51223</td>\n",
       "      <td>144.80719</td>\n",
       "    </tr>\n",
       "  </tbody>\n",
       "</table>\n",
       "<p>2267 rows × 3 columns</p>\n",
       "</div>"
      ],
      "text/plain": [
       "      trap_id  latitude  longitude\n",
       "0     0002MAN  13.45348  144.79247\n",
       "...       ...       ...        ...\n",
       "2266    X9999  13.51223  144.80719\n",
       "\n",
       "[2267 rows x 3 columns]"
      ]
     },
     "execution_count": 137,
     "metadata": {},
     "output_type": "execute_result"
    }
   ],
   "source": [
    "if trap_location_csv == 'guam_trap_location.csv':\n",
    "    df_loc = pd.DataFrame.from_csv(trap_location_csv, index_col=False)\n",
    "else:\n",
    "    df_loc = pd.DataFrame.from_csv(trap_location_csv, index_col=False, parse_dates=[3,4])\n",
    "df_loc"
   ]
  },
  {
   "cell_type": "code",
   "execution_count": 138,
   "metadata": {
    "collapsed": false
   },
   "outputs": [],
   "source": [
    "# df_loc.set_index(['latitude','longitude']).index.get_duplicates()"
   ]
  },
  {
   "cell_type": "code",
   "execution_count": 142,
   "metadata": {
    "collapsed": false
   },
   "outputs": [
    {
     "data": {
      "text/html": [
       "<div>\n",
       "<table border=\"1\" class=\"dataframe\">\n",
       "  <thead>\n",
       "    <tr style=\"text-align: right;\">\n",
       "      <th></th>\n",
       "      <th>trap_id</th>\n",
       "      <th>latitude</th>\n",
       "      <th>longitude</th>\n",
       "      <th>northing</th>\n",
       "      <th>easting</th>\n",
       "      <th>zone</th>\n",
       "    </tr>\n",
       "  </thead>\n",
       "  <tbody>\n",
       "    <tr>\n",
       "      <th>78</th>\n",
       "      <td>AP072</td>\n",
       "      <td>13.49385</td>\n",
       "      <td>144.80342</td>\n",
       "      <td>1492813.688558</td>\n",
       "      <td>262227.397641</td>\n",
       "      <td>55</td>\n",
       "    </tr>\n",
       "    <tr>\n",
       "      <th>79</th>\n",
       "      <td>AP072a</td>\n",
       "      <td>13.49385</td>\n",
       "      <td>144.80342</td>\n",
       "      <td>1492813.688558</td>\n",
       "      <td>262227.397641</td>\n",
       "      <td>55</td>\n",
       "    </tr>\n",
       "  </tbody>\n",
       "</table>\n",
       "</div>"
      ],
      "text/plain": [
       "   trap_id  latitude  longitude        northing        easting zone\n",
       "78   AP072  13.49385  144.80342  1492813.688558  262227.397641   55\n",
       "79  AP072a  13.49385  144.80342  1492813.688558  262227.397641   55"
      ]
     },
     "execution_count": 142,
     "metadata": {},
     "output_type": "execute_result"
    }
   ],
   "source": [
    "df_loc[df_loc.latitude == 13.49385]"
   ]
  },
  {
   "cell_type": "markdown",
   "metadata": {},
   "source": [
    "###Convert latitude and longitude to UTM (cartesian coordinates in meters)"
   ]
  },
  {
   "cell_type": "code",
   "execution_count": 140,
   "metadata": {
    "collapsed": false,
    "scrolled": true
   },
   "outputs": [
    {
     "ename": "OutOfRangeError",
     "evalue": "latitude out of range (must be between 80 deg S and 84 deg N)",
     "output_type": "error",
     "traceback": [
      "\u001b[1;31m---------------------------------------------------------------------------\u001b[0m",
      "\u001b[1;31mOutOfRangeError\u001b[0m                           Traceback (most recent call last)",
      "\u001b[1;32m<ipython-input-140-c06649c3ffb8>\u001b[0m in \u001b[0;36m<module>\u001b[1;34m()\u001b[0m\n\u001b[0;32m      3\u001b[0m \u001b[0mdf_loc\u001b[0m\u001b[1;33m[\u001b[0m\u001b[1;34m'northing'\u001b[0m\u001b[1;33m]\u001b[0m \u001b[1;33m=\u001b[0m \u001b[1;36m0.0\u001b[0m\u001b[1;33m;\u001b[0m \u001b[0mdf_loc\u001b[0m\u001b[1;33m[\u001b[0m\u001b[1;34m'easting'\u001b[0m\u001b[1;33m]\u001b[0m \u001b[1;33m=\u001b[0m \u001b[1;36m0.0\u001b[0m\u001b[1;33m;\u001b[0m \u001b[0mdf_loc\u001b[0m\u001b[1;33m[\u001b[0m\u001b[1;34m'zone'\u001b[0m\u001b[1;33m]\u001b[0m \u001b[1;33m=\u001b[0m \u001b[1;34m''\u001b[0m\u001b[1;33m\u001b[0m\u001b[0m\n\u001b[0;32m      4\u001b[0m \u001b[1;32mfor\u001b[0m \u001b[0mindex\u001b[0m\u001b[1;33m,\u001b[0m \u001b[0mrow\u001b[0m \u001b[1;32min\u001b[0m \u001b[0mdf_loc\u001b[0m\u001b[1;33m.\u001b[0m\u001b[0miterrows\u001b[0m\u001b[1;33m(\u001b[0m\u001b[1;33m)\u001b[0m\u001b[1;33m:\u001b[0m\u001b[1;33m\u001b[0m\u001b[0m\n\u001b[1;32m----> 5\u001b[1;33m     \u001b[0mu\u001b[0m \u001b[1;33m=\u001b[0m \u001b[0mutm\u001b[0m\u001b[1;33m.\u001b[0m\u001b[0mfrom_latlon\u001b[0m\u001b[1;33m(\u001b[0m\u001b[0mrow\u001b[0m\u001b[1;33m.\u001b[0m\u001b[0mlatitude\u001b[0m\u001b[1;33m,\u001b[0m \u001b[0mrow\u001b[0m\u001b[1;33m.\u001b[0m\u001b[0mlongitude\u001b[0m\u001b[1;33m)\u001b[0m\u001b[1;33m\u001b[0m\u001b[0m\n\u001b[0m\u001b[0;32m      6\u001b[0m     \u001b[0mdf_loc\u001b[0m\u001b[1;33m.\u001b[0m\u001b[0measting\u001b[0m\u001b[1;33m[\u001b[0m\u001b[0mindex\u001b[0m\u001b[1;33m]\u001b[0m \u001b[1;33m=\u001b[0m \u001b[0mu\u001b[0m\u001b[1;33m[\u001b[0m\u001b[1;36m0\u001b[0m\u001b[1;33m]\u001b[0m\u001b[1;33m\u001b[0m\u001b[0m\n\u001b[0;32m      7\u001b[0m     \u001b[0mdf_loc\u001b[0m\u001b[1;33m.\u001b[0m\u001b[0mnorthing\u001b[0m\u001b[1;33m[\u001b[0m\u001b[0mindex\u001b[0m\u001b[1;33m]\u001b[0m \u001b[1;33m=\u001b[0m \u001b[0mu\u001b[0m\u001b[1;33m[\u001b[0m\u001b[1;36m1\u001b[0m\u001b[1;33m]\u001b[0m\u001b[1;33m\u001b[0m\u001b[0m\n",
      "\u001b[1;32m/home/aubreymoore/anaconda/lib/python2.7/site-packages/utm/conversion.pyc\u001b[0m in \u001b[0;36mfrom_latlon\u001b[1;34m(latitude, longitude, force_zone_number)\u001b[0m\n\u001b[0;32m    116\u001b[0m \u001b[1;32mdef\u001b[0m \u001b[0mfrom_latlon\u001b[0m\u001b[1;33m(\u001b[0m\u001b[0mlatitude\u001b[0m\u001b[1;33m,\u001b[0m \u001b[0mlongitude\u001b[0m\u001b[1;33m,\u001b[0m \u001b[0mforce_zone_number\u001b[0m\u001b[1;33m=\u001b[0m\u001b[0mNone\u001b[0m\u001b[1;33m)\u001b[0m\u001b[1;33m:\u001b[0m\u001b[1;33m\u001b[0m\u001b[0m\n\u001b[0;32m    117\u001b[0m     \u001b[1;32mif\u001b[0m \u001b[1;32mnot\u001b[0m \u001b[1;33m-\u001b[0m\u001b[1;36m80.0\u001b[0m \u001b[1;33m<=\u001b[0m \u001b[0mlatitude\u001b[0m \u001b[1;33m<=\u001b[0m \u001b[1;36m84.0\u001b[0m\u001b[1;33m:\u001b[0m\u001b[1;33m\u001b[0m\u001b[0m\n\u001b[1;32m--> 118\u001b[1;33m         \u001b[1;32mraise\u001b[0m \u001b[0mOutOfRangeError\u001b[0m\u001b[1;33m(\u001b[0m\u001b[1;34m'latitude out of range (must be between 80 deg S and 84 deg N)'\u001b[0m\u001b[1;33m)\u001b[0m\u001b[1;33m\u001b[0m\u001b[0m\n\u001b[0m\u001b[0;32m    119\u001b[0m     \u001b[1;32mif\u001b[0m \u001b[1;32mnot\u001b[0m \u001b[1;33m-\u001b[0m\u001b[1;36m180.0\u001b[0m \u001b[1;33m<=\u001b[0m \u001b[0mlongitude\u001b[0m \u001b[1;33m<=\u001b[0m \u001b[1;36m180.0\u001b[0m\u001b[1;33m:\u001b[0m\u001b[1;33m\u001b[0m\u001b[0m\n\u001b[0;32m    120\u001b[0m         \u001b[1;32mraise\u001b[0m \u001b[0mOutOfRangeError\u001b[0m\u001b[1;33m(\u001b[0m\u001b[1;34m'northing out of range (must be between 180 deg W and 180 deg E)'\u001b[0m\u001b[1;33m)\u001b[0m\u001b[1;33m\u001b[0m\u001b[0m\n",
      "\u001b[1;31mOutOfRangeError\u001b[0m: latitude out of range (must be between 80 deg S and 84 deg N)"
     ]
    }
   ],
   "source": [
    "pd.options.mode.chained_assignment = None  # default='warn'\n",
    "\n",
    "df_loc['northing'] = 0.0; df_loc['easting'] = 0.0; df_loc['zone'] = ''\n",
    "for index, row in df_loc.iterrows():\n",
    "    u = utm.from_latlon(row.latitude, row.longitude)\n",
    "    df_loc.easting[index] = u[0]\n",
    "    df_loc.northing[index] = u[1]\n",
    "    df_loc.zone[index] = u[2]\n",
    "df_loc.tail()"
   ]
  },
  {
   "cell_type": "code",
   "execution_count": null,
   "metadata": {
    "collapsed": false
   },
   "outputs": [],
   "source": [
    "min_easting = df_loc.easting.min()\n",
    "max_easting = df_loc.easting.max()\n",
    "min_northing = df_loc.northing.min()\n",
    "max_northing = df_loc.northing.max()\n",
    "print 'Easting:  ', min_easting, max_easting\n",
    "print 'Northing: ', min_northing, max_northing"
   ]
  },
  {
   "cell_type": "code",
   "execution_count": null,
   "metadata": {
    "collapsed": false
   },
   "outputs": [],
   "source": [
    "# HACK\n",
    "if add_jitter:\n",
    "    df_loc['northing'] = df_loc['northing'] + np.random.normal(scale=1, size=len(df_loc))"
   ]
  },
  {
   "cell_type": "markdown",
   "metadata": {},
   "source": [
    "###Get trap catch data"
   ]
  },
  {
   "cell_type": "code",
   "execution_count": null,
   "metadata": {
    "collapsed": false
   },
   "outputs": [],
   "source": [
    "df_obs = pd.DataFrame.from_csv(trap_catch_csv, index_col=False, parse_dates=[1,2])\n",
    "df_obs"
   ]
  },
  {
   "cell_type": "markdown",
   "metadata": {},
   "source": [
    "###Calculate trapping period (days) and trap rate (beetles captures per trap-day)"
   ]
  },
  {
   "cell_type": "code",
   "execution_count": null,
   "metadata": {
    "collapsed": false
   },
   "outputs": [],
   "source": [
    "df_obs['days'] =(df_obs['end_date'] - df_obs['start_date']) / np.timedelta64(1, 'D')\n",
    "df_obs['trapRate'] = df_obs['ntrapped'] / df_obs['days']\n",
    "df_obs.tail()"
   ]
  },
  {
   "cell_type": "code",
   "execution_count": null,
   "metadata": {
    "collapsed": false
   },
   "outputs": [],
   "source": [
    "df_merge = pd.DataFrame.merge(df_obs,df_loc,on='trap_id')\n",
    "df_merge.drop(['latitude','longitude','zone'], 1, inplace=True)\n",
    "df_merge.tail()"
   ]
  },
  {
   "cell_type": "code",
   "execution_count": null,
   "metadata": {
    "collapsed": false,
    "scrolled": true
   },
   "outputs": [],
   "source": [
    "if calc_df_daily:\n",
    "    rows_list = []\n",
    "    for index, row in df_merge.iterrows():\n",
    "        for n in range(int(row.days)):\n",
    "            dict1 = {}\n",
    "            dict1['date'] = row.start_date + n*datetime.timedelta(1)\n",
    "            dict1['trap_id'] = row.trap_id\n",
    "            dict1['northing'] = row.northing\n",
    "            dict1['easting'] = row.easting\n",
    "            dict1['trapRate'] = row.trapRate\n",
    "            rows_list.append(dict1)\n",
    "    df_daily = pd.DataFrame(rows_list)\n",
    "    #df_daily.set_index('date')\n",
    "    df_daily"
   ]
  },
  {
   "cell_type": "code",
   "execution_count": null,
   "metadata": {
    "collapsed": false,
    "scrolled": true
   },
   "outputs": [],
   "source": [
    "df_daily"
   ]
  },
  {
   "cell_type": "code",
   "execution_count": null,
   "metadata": {
    "collapsed": false
   },
   "outputs": [],
   "source": [
    "dfx = df_daily.groupby(['date']).mean()\n",
    "dfx"
   ]
  },
  {
   "cell_type": "code",
   "execution_count": null,
   "metadata": {
    "collapsed": false
   },
   "outputs": [],
   "source": [
    "from pylab import rcParams\n",
    "rcParams['figure.figsize'] = 20, 10\n",
    "\n",
    "dfx.plot(y='trapRate')"
   ]
  },
  {
   "cell_type": "code",
   "execution_count": null,
   "metadata": {
    "collapsed": false
   },
   "outputs": [],
   "source": [
    "dfx.index = pd.to_datetime(dfx.index)\n",
    "df = pd.rolling_mean(dfx['trapRate'], window=1,  freq='30d')\n",
    "df.plot()"
   ]
  },
  {
   "cell_type": "markdown",
   "metadata": {},
   "source": [
    "###To start, let's do a plot of total beetles"
   ]
  },
  {
   "cell_type": "code",
   "execution_count": null,
   "metadata": {
    "collapsed": false
   },
   "outputs": [],
   "source": [
    "def slicer(endDate, daysPrior, df_daily = df_daily):\n",
    "    '''\n",
    "    Returns a data frame containing all records from df_daily\n",
    "    where dates range from (endDate - daysPrior) to (endDate - 1)\n",
    "    '''\n",
    "#    d2 = datetime.datetime.strptime(endDate, '%Y-%m-%d')\n",
    "    d2 = endDate\n",
    "    d1 = d2 - datetime.timedelta(days=daysPrior)\n",
    "    grouped = df_daily[(df_daily['date'] >= d1) & (df_daily['date'] < d2)].groupby('trap_id')\n",
    "    df = grouped.aggregate(np.mean)\n",
    "    return df"
   ]
  },
  {
   "cell_type": "code",
   "execution_count": null,
   "metadata": {
    "collapsed": false
   },
   "outputs": [],
   "source": [
    "def mask_outside_polygon(poly_verts, ax=None):\n",
    "    \"\"\"\n",
    "    Plots a mask on the specified axis (\"ax\", defaults to plt.gca()) such that\n",
    "    all areas outside of the polygon specified by \"poly_verts\" are masked.  \n",
    "\n",
    "    \"poly_verts\" must be a list of tuples of the verticies in the polygon in\n",
    "    counter-clockwise order.\n",
    "\n",
    "    Returns the matplotlib.patches.PathPatch instance plotted on the figure.\n",
    "    \"\"\"\n",
    "    import matplotlib.patches as mpatches\n",
    "    import matplotlib.path as mpath\n",
    "\n",
    "    if ax is None:\n",
    "        ax = plt.gca()\n",
    "\n",
    "    # Get current plot limits\n",
    "    xlim = ax.get_xlim()\n",
    "    ylim = ax.get_ylim()\n",
    "\n",
    "    # Verticies of the plot boundaries in clockwise order\n",
    "    bound_verts = [(xlim[0], ylim[0]), (xlim[0], ylim[1]), \n",
    "                   (xlim[1], ylim[1]), (xlim[1], ylim[0]), \n",
    "                   (xlim[0], ylim[0])]\n",
    "\n",
    "    # A series of codes (1 and 2) to tell matplotlib whether to draw a line or \n",
    "    # move the \"pen\" (So that there's no connecting line)\n",
    "    bound_codes = [mpath.Path.MOVETO] + (len(bound_verts) - 1) * [mpath.Path.LINETO]\n",
    "    poly_codes = [mpath.Path.MOVETO] + (len(poly_verts) - 1) * [mpath.Path.LINETO]\n",
    "\n",
    "    # Plot the masking patch\n",
    "    path = mpath.Path(bound_verts + poly_verts, bound_codes + poly_codes)\n",
    "    patch = mpatches.PathPatch(path, facecolor='white', edgecolor='none')\n",
    "    patch = ax.add_patch(patch)\n",
    "\n",
    "    # Reset the plot limits to their original extents\n",
    "    ax.set_xlim(xlim)\n",
    "    ax.set_ylim(ylim)\n",
    "\n",
    "    return patch\n"
   ]
  },
  {
   "cell_type": "raw",
   "metadata": {},
   "source": [
    "import matplotlib.tri as mtri\n",
    "import numpy as np\n",
    "from numpy.random import randn\n",
    "from matplotlib import colors\n",
    "\n",
    "numpy.random.seed(0)\n",
    "x = randn(300)\n",
    "y = randn(300)\n",
    "z = randn(*x.shape)\n",
    "triangles = mtri.Triangulation(x, y)\n",
    "bounds=np.linspace(-1,1,10)\n",
    "# sc = plt.tricontourf(triangles, z, vmax=1., vmin=-1.)\n",
    "sc = plt.tricontourf(triangles, z, vmax=1., vmin=-1., levels = bounds,\\\n",
    "                    extend = 'both')\n",
    "cb = colorbar(sc)\n",
    "_ = ylim(-2,2)\n",
    "_ = xlim(-2,2)"
   ]
  },
  {
   "cell_type": "code",
   "execution_count": null,
   "metadata": {
    "collapsed": false
   },
   "outputs": [],
   "source": [
    "def plotmap(df, cmap):\n",
    "    #df = slicer('2015-05-01', 90)\n",
    "    #NOTE: Need to try colormesh. Faster than colrbar??\n",
    "    x = df.easting.values\n",
    "    y = df.northing.values\n",
    "    values = df.trapRate.values\n",
    "    vmin = 0.0\n",
    "    vmax = max_trap_catch_scale\n",
    "    \n",
    "    # CAN WE REUSE THESE OBJECTS?\n",
    "    #Creating the output grid (100x100, in the example)  \n",
    "    #tx = np.linspace(min(x)-50, max(x)+50, 100)  \n",
    "    #ty = np.linspace(min(y)-50, max(y)+50, 100)\n",
    "    tx = np.linspace(min_easting, max_easting, 100)\n",
    "    ty = np.linspace(min_northing, max_northing, 100)   \n",
    "    XI, YI = np.meshgrid(tx, ty)  \n",
    "\n",
    "    #Creating the interpolation function and populating the output matrix value  \n",
    "    rbf = Rbf(x, y, values, function='multiquadric', epsilon=epsilon)  \n",
    "    ZI = rbf(XI, YI)  \n",
    "    # Plotting the result  \n",
    "    plt.figure(figsize=(10,10))\n",
    "    plt.axes().set_aspect(1.0) \n",
    "        \n",
    "#    plt.pcolor(XI, YI, ZI, vmin=vmin, vmax=vmax, cmap=cmap) \n",
    "#    plt.pcolormesh(XI, YI, ZI, vmin=vmin, vmax=vmax, cmap=cmap) \n",
    "    \n",
    "#    plt.contourf(XI, YI, ZI, vmin=vmin, vmax=vmax, cmap=cmap)     \n",
    "    plt.contourf(XI, YI, ZI, vmin=vmin, vmax=vmax, cmap=cmap, levels=levels, extend='both')     \n",
    "    \n",
    "    plt.colorbar(label='beetles per trap-day')\n",
    "    myplot = plt.scatter(x, y, marker_size, values, vmin=vmin, vmax=vmax, cmap=cmap) \n",
    "    plt.xlabel('meters')\n",
    "    plt.ylabel('meters')\n",
    "    \n",
    "    #plt.title('RBF interpolation')\n",
    "    min_x = min_easting - margin * (max_easting - min_easting)\n",
    "    max_x = max_easting + margin * (max_easting - min_easting)\n",
    "    min_y = min_northing - margin * (max_northing - min_northing)\n",
    "    max_y = max_northing + margin * (max_northing - min_northing)  \n",
    "    plt.xlim(min_x, max_x)  \n",
    "    plt.ylim(min_y, max_y)\n",
    "       \n",
    "#    plt.xlim(264000,275000)\n",
    "#    plt.ylim(1490000,1500000)\n",
    "    \n",
    "    if mask_csv:\n",
    "        plt.plot(df_poly.easting, df_poly.northing, linewidth=2, color='black')\n",
    "    #plt.colorbar()\n",
    "    if show_trap_labels: \n",
    "        for index, row in df.iterrows():\n",
    "            plt.annotate(\n",
    "                index, \n",
    "                xy = (row.easting, row.northing), xytext = (0, 12),\n",
    "                textcoords = 'offset points', ha = 'right', va = 'bottom',\n",
    "                bbox = dict(boxstyle = 'round,pad=0.5', fc = 'white', alpha = 0.30))\n",
    "    if mask_csv:\n",
    "        mask_outside_polygon(myp)\n",
    "    return myplot  "
   ]
  },
  {
   "cell_type": "raw",
   "metadata": {
    "collapsed": false
   },
   "source": [
    "dir(cmap)\n",
    "cmap.__dict__"
   ]
  },
  {
   "cell_type": "code",
   "execution_count": null,
   "metadata": {
    "collapsed": false
   },
   "outputs": [],
   "source": [
    "def date_list(d1, d2):\n",
    "    \"\"\"\n",
    "    Returns list containing first date in month from d1 to d2 \n",
    "    \"\"\"\n",
    "    dlist = []\n",
    "    for year in range(d1.year, d2.year+1):\n",
    "        for month in range(1,13):\n",
    "            d = date(year, month, 1)\n",
    "            if (d >= d1) & (d <= d2):\n",
    "                dlist.append(date(year, month, 1))\n",
    "    return dlist"
   ]
  },
  {
   "cell_type": "code",
   "execution_count": null,
   "metadata": {
    "collapsed": false
   },
   "outputs": [],
   "source": [
    "def plot_bars():\n",
    "    colors = []\n",
    "    for i in trapRateMeans:\n",
    "        colors.append('white')\n",
    "\n",
    "    for i in range(len(trapRateMeans)):\n",
    "        colors[i] = 'red'\n",
    "        fig = plt.figure()\n",
    "        plt.bar(left=np.arange(len(plot_dates)), height=trapRateMeans, color=colors)\n",
    "        plt.tick_params(\n",
    "            axis='x',          # changes apply to the x-axis\n",
    "            which='both',      # both major and minor ticks are affected\n",
    "            bottom='off',      # ticks along the bottom edge are off\n",
    "            top='off',         # ticks along the top edge are off\n",
    "            labelbottom='off')  # labels along the bottom edge are off\n",
    "        filename = 'bars%s.png' % (plot_dates[i].strftime('%Y-%m-%d'))\n",
    "        colors[i] = 'white'\n",
    "        #xmin, xmax = plt.xlim()\n",
    "        #plt.text(xmin, -0.0002, d1)\n",
    "        #plt.text(xmax-1, -0.0002, d2)\n",
    "        plt.ylabel('beetles per trap-day')\n",
    "        plt.title('Mean Islandwide Trap Catch')\n",
    "        fig.savefig(filename)"
   ]
  },
  {
   "cell_type": "raw",
   "metadata": {},
   "source": [
    "for endDate in plot_dates:\n",
    "    df = slicer(endDate, 90)\n",
    "plotmap(df, cmap)"
   ]
  },
  {
   "cell_type": "code",
   "execution_count": null,
   "metadata": {
    "collapsed": false
   },
   "outputs": [],
   "source": [
    "cmap = generate_red_colormap()\n",
    "cmap = cmap_discretize(cmap, 5)\n",
    "\n",
    "plot_dates = date_list(d1, d2)\n",
    "trapRateMeans = []\n",
    "for endDate in plot_dates:\n",
    "    df = slicer(endDate, 90)\n",
    "   \n",
    "    #print(df[df.duplicated(['easting','northing'])])\n",
    "          \n",
    "    myplot = plotmap(df, cmap)\n",
    "    myplot.figure.savefig(endDate.strftime('%Y-%m-%d') + '.png')\n",
    "    trapRateMeans.append(np.mean(df.trapRate))\n",
    "    \n",
    "#    df.to_json(endDate.strftime('%Y-%m-%d') + '.json')\n",
    "       \n",
    "plot_bars()"
   ]
  },
  {
   "cell_type": "code",
   "execution_count": null,
   "metadata": {
    "collapsed": false,
    "scrolled": true
   },
   "outputs": [],
   "source": [
    "title = r'Visualization of Guam Coconut Rhinoceros Beetle Trap Data'\n",
    "\n",
    "tex = r'''\n",
    "\\documentclass{beamer}\n",
    "\\usepackage[export]{adjustbox}% http://ctan.org/pkg/adjustbox\n",
    "\\setbeamersize{text margin left=1cm,text margin right=1cm}\n",
    "'''\n",
    "tex += r'\\title{' + title + r'}'\n",
    "tex += r'''\n",
    "%\\title{' + title + ''}'\n",
    "%\\titlehead{Guam Coconut Rhinoceros Project Technical Report\\\\DRAFT: Work in progress}\n",
    "%\\title{Visualization of Pan Trap Data at the University of Guam Yigo Agricultural Experiment Station}\n",
    "%\\title{Visualization of Guam Coconut Rhinoceros Beetle Trap Data\\\\Port Authority (PA) Traps}\n",
    "\n",
    "\\author{Aubrey Moore}\n",
    "\n",
    "\\begin{document}\n",
    "\\frame{\\titlepage}\n",
    "\n",
    "\\begin{frame}{Notes}\n",
    "\\begin{itemize}\n",
    "    \\item Best viewed in with a PDF reader in presentation mode.\n",
    "    \\item This document was generated by an IPython Notebook.\n",
    "    \\item Data required:\n",
    "    \\begin{itemize}\n",
    "        \\item a CSV table containing 3 fields: trap identifier and lat/long coordinates in decimal degrees\n",
    "        \\item a CSV table containing 4 fields: trap identifier, dates for start and end of trapping period, \n",
    "and number of beetles trapped during the trapping period\n",
    "        \\item a CSV table containing 2 fields: lat/long coordinates in decimal degrees defining a mask for the region of interest\n",
    "    \\end{itemize}\n",
    "\\end{itemize}\n",
    "\\end{frame}\n",
    "\n",
    "'''\n",
    "for d in plot_dates:\n",
    "#    tex += r'\\begin{frame}{Yigo Pan Traps: mean beetles per trap-day for 90 day period ending \\textbf{%s}}' % d.strftime('%d %b %y') + '\\n'\n",
    "    tex += r'\\begin{frame}{Mean beetles per trap-day for 90 day period ending\\\\ \\textbf{%s}}' % d.strftime('%d %b %Y') + '\\n'\n",
    "    tex += r'\\includegraphics[width=0.6\\linewidth,valign=c]{%s.png}' % d.strftime('%Y-%m-%d') + '\\n'\n",
    "    tex += r'\\includegraphics[width=0.4\\linewidth,valign=c]{bars%s.png}' % d.strftime('%Y-%m-%d') + '\\n'\n",
    "    tex += r'\\end{frame}' + '\\n'\n",
    "tex += r'\\end{document}' \n",
    "\n",
    "#print(tex)\n",
    "f = open(\"template.tex\", \"w\")\n",
    "f.write(tex)\n",
    "f.close()"
   ]
  },
  {
   "cell_type": "code",
   "execution_count": null,
   "metadata": {
    "collapsed": false
   },
   "outputs": [],
   "source": [
    "%%bash\n",
    "pdflatex template.tex \n",
    "mv template.pdf trapviz.pdf\n",
    "xdg-open trapviz.pdf"
   ]
  },
  {
   "cell_type": "markdown",
   "metadata": {},
   "source": [
    "# Make a movie"
   ]
  },
  {
   "cell_type": "code",
   "execution_count": null,
   "metadata": {
    "collapsed": false
   },
   "outputs": [],
   "source": [
    "%%bash\n",
    "\n",
    "# Uncomment below to make an mpg movie file\n",
    "\n",
    "gs -q -dBATCH -dNOPAUSE -sDEVICE=png16m -r300 -sOutputFile=\"tm%d.png\" \"trapviz.pdf\"\n",
    "avconv -y -r 1 -f image2 -i tm%d.png -r 25 -c:v mpeg2video trapviz.mpg"
   ]
  },
  {
   "cell_type": "markdown",
   "metadata": {
    "collapsed": true
   },
   "source": [
    "# Garbage collection"
   ]
  },
  {
   "cell_type": "code",
   "execution_count": 144,
   "metadata": {
    "collapsed": false
   },
   "outputs": [
    {
     "name": "stderr",
     "output_type": "stream",
     "text": [
      "rm: cannot remove ‘template.*’: No such file or directory\n",
      "rm: cannot remove ‘*.png’: No such file or directory\n"
     ]
    }
   ],
   "source": [
    "%%bash\n",
    "rm template.*\n",
    "rm *.png"
   ]
  },
  {
   "cell_type": "code",
   "execution_count": null,
   "metadata": {
    "collapsed": false
   },
   "outputs": [],
   "source": [
    "df_daily.tail()"
   ]
  },
  {
   "cell_type": "code",
   "execution_count": null,
   "metadata": {
    "collapsed": false
   },
   "outputs": [],
   "source": [
    "df_daily.date.max()"
   ]
  },
  {
   "cell_type": "code",
   "execution_count": null,
   "metadata": {
    "collapsed": true
   },
   "outputs": [],
   "source": []
  }
 ],
 "metadata": {
  "kernelspec": {
   "display_name": "Python 2",
   "language": "python",
   "name": "python2"
  },
  "language_info": {
   "codemirror_mode": {
    "name": "ipython",
    "version": 2
   },
   "file_extension": ".py",
   "mimetype": "text/x-python",
   "name": "python",
   "nbconvert_exporter": "python",
   "pygments_lexer": "ipython2",
   "version": "2.7.10"
  }
 },
 "nbformat": 4,
 "nbformat_minor": 0
}
