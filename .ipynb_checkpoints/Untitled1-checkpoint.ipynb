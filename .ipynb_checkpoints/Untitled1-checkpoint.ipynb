{
 "cells": [
  {
   "cell_type": "code",
   "execution_count": 1,
   "metadata": {
    "collapsed": false
   },
   "outputs": [
    {
     "name": "stdout",
     "output_type": "stream",
     "text": [
      "[False False False False False False False False False False False False\n",
      " False False False False False False False False False False False  True\n",
      "  True  True False False False False False False False False  True  True\n",
      " False False False False False False False False  True  True False False\n",
      " False False False False False False  True  True False False False False\n",
      " False False False False False  True False False False False False False\n",
      " False False False  True False False False False False False False False\n",
      " False  True False False False False False False False False False  True\n",
      " False False False False]\n"
     ]
    }
   ],
   "source": [
    "#from http://stackoverflow.com/questions/9982335/how-to-draw-a-geometric-shape-on-a-2-d-meshgrid\n",
    "\n",
    "%matplotlib inline\n",
    "import matplotlib as plt\n",
    "#from matplotlib import path\n",
    "import numpy as np\n",
    "#from matplotlib.nxutils import points_inside_poly\n",
    "\n",
    "nx, ny = 10, 10\n",
    "poly_verts = [(1,1), (5,1), (5,9),(3,2),(1,1)]\n",
    "\n",
    "# Create vertex coordinates for each grid cell...\n",
    "# (<0,0> is at the top left of the grid in this system)\n",
    "x, y = np.meshgrid(np.arange(nx), np.arange(ny))\n",
    "x, y = x.flatten(), y.flatten()\n",
    "points = np.vstack((x,y)).T\n",
    "p = path.Path(poly_verts)\n",
    "grid = p.contains_points(points)\n",
    "\n",
    "#grid = points_inside_poly(points, poly_verts)\n",
    "#grid = grid.reshape((ny,nx))\n",
    "\n",
    "print grid"
   ]
  },
  {
   "cell_type": "code",
   "execution_count": null,
   "metadata": {
    "collapsed": true
   },
   "outputs": [],
   "source": []
  }
 ],
 "metadata": {
  "kernelspec": {
   "display_name": "Python 2",
   "language": "python",
   "name": "python2"
  },
  "language_info": {
   "codemirror_mode": {
    "name": "ipython",
    "version": 2
   },
   "file_extension": ".py",
   "mimetype": "text/x-python",
   "name": "python",
   "nbconvert_exporter": "python",
   "pygments_lexer": "ipython2",
   "version": "2.7.9"
  }
 },
 "nbformat": 4,
 "nbformat_minor": 0
}
