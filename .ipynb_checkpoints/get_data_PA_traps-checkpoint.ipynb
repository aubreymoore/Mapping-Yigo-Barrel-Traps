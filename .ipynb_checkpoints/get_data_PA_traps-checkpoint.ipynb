{
 "cells": [
  {
   "cell_type": "code",
   "execution_count": 41,
   "metadata": {
    "collapsed": true
   },
   "outputs": [],
   "source": [
    "import pymysql\n",
    "import getpass\n",
    "import pandas as pd"
   ]
  },
  {
   "cell_type": "markdown",
   "metadata": {},
   "source": [
    "# Get password for project database"
   ]
  },
  {
   "cell_type": "code",
   "execution_count": 42,
   "metadata": {
    "collapsed": false
   },
   "outputs": [
    {
     "name": "stdout",
     "output_type": "stream",
     "text": [
      "········\n"
     ]
    }
   ],
   "source": [
    "password = getpass.getpass()\n",
    "conn = pymysql.connect(host='mysql.guaminsects.net',user='aubreymoore',passwd=password,db='oryctes')"
   ]
  },
  {
   "cell_type": "markdown",
   "metadata": {},
   "source": [
    "# Make trap_location.csv"
   ]
  },
  {
   "cell_type": "code",
   "execution_count": 43,
   "metadata": {
    "collapsed": false,
    "scrolled": true
   },
   "outputs": [
    {
     "data": {
      "text/html": [
       "<div>\n",
       "<table border=\"1\" class=\"dataframe\">\n",
       "  <thead>\n",
       "    <tr style=\"text-align: right;\">\n",
       "      <th></th>\n",
       "      <th>trap_id</th>\n",
       "      <th>latitude</th>\n",
       "      <th>longitude</th>\n",
       "      <th>date_deployed</th>\n",
       "      <th>date_removed</th>\n",
       "    </tr>\n",
       "  </thead>\n",
       "  <tbody>\n",
       "    <tr>\n",
       "      <th>0</th>\n",
       "      <td>AP001</td>\n",
       "      <td>13.47741</td>\n",
       "      <td>144.80824</td>\n",
       "      <td>2015-04-02</td>\n",
       "      <td>None</td>\n",
       "    </tr>\n",
       "    <tr>\n",
       "      <th>...</th>\n",
       "      <td>...</td>\n",
       "      <td>...</td>\n",
       "      <td>...</td>\n",
       "      <td>...</td>\n",
       "      <td>...</td>\n",
       "    </tr>\n",
       "    <tr>\n",
       "      <th>76</th>\n",
       "      <td>AP077</td>\n",
       "      <td>13.48405</td>\n",
       "      <td>144.81497</td>\n",
       "      <td>2015-04-22</td>\n",
       "      <td>None</td>\n",
       "    </tr>\n",
       "  </tbody>\n",
       "</table>\n",
       "<p>77 rows × 5 columns</p>\n",
       "</div>"
      ],
      "text/plain": [
       "   trap_id  latitude  longitude date_deployed date_removed\n",
       "0    AP001  13.47741  144.80824    2015-04-02         None\n",
       "..     ...       ...        ...           ...          ...\n",
       "76   AP077  13.48405  144.81497    2015-04-22         None\n",
       "\n",
       "[77 rows x 5 columns]"
      ]
     },
     "execution_count": 43,
     "metadata": {},
     "output_type": "execute_result"
    }
   ],
   "source": [
    "sql= \"\"\"\n",
    "SELECT trap_id, latitude, longitude, date_deployed, date_removed \n",
    "FROM trap\n",
    "WHERE trap_id LIKE 'PA%'\n",
    "\"\"\"\n",
    "df = pd.io.sql.read_sql(sql, conn)\n",
    "df.to_csv('PA_trap_location.csv', index=False)\n",
    "pd.set_option('display.max_rows', 2)\n",
    "df"
   ]
  },
  {
   "cell_type": "code",
   "execution_count": 44,
   "metadata": {
    "collapsed": false
   },
   "outputs": [
    {
     "data": {
      "text/html": [
       "<div>\n",
       "<table border=\"1\" class=\"dataframe\">\n",
       "  <thead>\n",
       "    <tr style=\"text-align: right;\">\n",
       "      <th></th>\n",
       "      <th>latitude</th>\n",
       "      <th>longitude</th>\n",
       "    </tr>\n",
       "  </thead>\n",
       "  <tbody>\n",
       "    <tr>\n",
       "      <th>count</th>\n",
       "      <td>77.000000</td>\n",
       "      <td>77.000000</td>\n",
       "    </tr>\n",
       "    <tr>\n",
       "      <th>mean</th>\n",
       "      <td>13.485042</td>\n",
       "      <td>144.801924</td>\n",
       "    </tr>\n",
       "    <tr>\n",
       "      <th>std</th>\n",
       "      <td>0.009203</td>\n",
       "      <td>0.012248</td>\n",
       "    </tr>\n",
       "    <tr>\n",
       "      <th>min</th>\n",
       "      <td>13.470460</td>\n",
       "      <td>144.776760</td>\n",
       "    </tr>\n",
       "    <tr>\n",
       "      <th>25%</th>\n",
       "      <td>13.476970</td>\n",
       "      <td>144.792480</td>\n",
       "    </tr>\n",
       "    <tr>\n",
       "      <th>50%</th>\n",
       "      <td>13.484130</td>\n",
       "      <td>144.802730</td>\n",
       "    </tr>\n",
       "    <tr>\n",
       "      <th>75%</th>\n",
       "      <td>13.493460</td>\n",
       "      <td>144.812270</td>\n",
       "    </tr>\n",
       "    <tr>\n",
       "      <th>max</th>\n",
       "      <td>13.500750</td>\n",
       "      <td>144.821460</td>\n",
       "    </tr>\n",
       "  </tbody>\n",
       "</table>\n",
       "</div>"
      ],
      "text/plain": [
       "        latitude   longitude\n",
       "count  77.000000   77.000000\n",
       "mean   13.485042  144.801924\n",
       "std     0.009203    0.012248\n",
       "min    13.470460  144.776760\n",
       "25%    13.476970  144.792480\n",
       "50%    13.484130  144.802730\n",
       "75%    13.493460  144.812270\n",
       "max    13.500750  144.821460"
      ]
     },
     "execution_count": 44,
     "metadata": {},
     "output_type": "execute_result"
    }
   ],
   "source": [
    "pd.set_option('display.max_rows', 100)\n",
    "df.describe()"
   ]
  },
  {
   "cell_type": "markdown",
   "metadata": {},
   "source": [
    "# Make trap_catch.csv"
   ]
  },
  {
   "cell_type": "code",
   "execution_count": 45,
   "metadata": {
    "collapsed": false
   },
   "outputs": [
    {
     "data": {
      "text/html": [
       "<div>\n",
       "<table border=\"1\" class=\"dataframe\">\n",
       "  <thead>\n",
       "    <tr style=\"text-align: right;\">\n",
       "      <th></th>\n",
       "      <th>trap_id</th>\n",
       "      <th>end_date</th>\n",
       "      <th>ntrapped</th>\n",
       "    </tr>\n",
       "  </thead>\n",
       "  <tbody>\n",
       "    <tr>\n",
       "      <th>0</th>\n",
       "      <td>AP001</td>\n",
       "      <td>2015-04-13</td>\n",
       "      <td>1</td>\n",
       "    </tr>\n",
       "    <tr>\n",
       "      <th>...</th>\n",
       "      <td>...</td>\n",
       "      <td>...</td>\n",
       "      <td>...</td>\n",
       "    </tr>\n",
       "    <tr>\n",
       "      <th>1333</th>\n",
       "      <td>AP077</td>\n",
       "      <td>2016-04-18</td>\n",
       "      <td>0</td>\n",
       "    </tr>\n",
       "  </tbody>\n",
       "</table>\n",
       "<p>1334 rows × 3 columns</p>\n",
       "</div>"
      ],
      "text/plain": [
       "     trap_id    end_date  ntrapped\n",
       "0      AP001  2015-04-13         1\n",
       "...      ...         ...       ...\n",
       "1333   AP077  2016-04-18         0\n",
       "\n",
       "[1334 rows x 3 columns]"
      ]
     },
     "execution_count": 45,
     "metadata": {},
     "output_type": "execute_result"
    }
   ],
   "source": [
    "# Note that the SQL contains a join which ensures that all values of trap_id exist in both the trap_location.csv and trap_catch.csv files.\n",
    "sql = \"\"\"\n",
    "SELECT trap_visit.trap_id AS trap_id, visit_date AS end_date, male_count + female_count + unsexed_count AS ntrapped\n",
    "FROM trap, trap_visit\n",
    "WHERE trap_visit.trap_id = trap.trap_id AND trap_visit.trap_id LIKE 'PA%'\n",
    "\"\"\"\n",
    "df = pd.io.sql.read_sql(sql, conn)\n",
    "pd.set_option('display.max_rows', 2)\n",
    "df"
   ]
  },
  {
   "cell_type": "markdown",
   "metadata": {},
   "source": [
    "### Date deployed is added for each trap to provide a start_date for the first trapping period"
   ]
  },
  {
   "cell_type": "code",
   "execution_count": 46,
   "metadata": {
    "collapsed": false
   },
   "outputs": [
    {
     "data": {
      "text/html": [
       "<div>\n",
       "<table border=\"1\" class=\"dataframe\">\n",
       "  <thead>\n",
       "    <tr style=\"text-align: right;\">\n",
       "      <th></th>\n",
       "      <th>trap_id</th>\n",
       "      <th>end_date</th>\n",
       "      <th>ntrapped</th>\n",
       "    </tr>\n",
       "  </thead>\n",
       "  <tbody>\n",
       "    <tr>\n",
       "      <th>0</th>\n",
       "      <td>AP001</td>\n",
       "      <td>2015-04-13</td>\n",
       "      <td>1</td>\n",
       "    </tr>\n",
       "    <tr>\n",
       "      <th>...</th>\n",
       "      <td>...</td>\n",
       "      <td>...</td>\n",
       "      <td>...</td>\n",
       "    </tr>\n",
       "    <tr>\n",
       "      <th>76</th>\n",
       "      <td>AP077</td>\n",
       "      <td>2015-04-22</td>\n",
       "      <td>0</td>\n",
       "    </tr>\n",
       "  </tbody>\n",
       "</table>\n",
       "<p>1411 rows × 3 columns</p>\n",
       "</div>"
      ],
      "text/plain": [
       "   trap_id    end_date  ntrapped\n",
       "0    AP001  2015-04-13         1\n",
       "..     ...         ...       ...\n",
       "76   AP077  2015-04-22         0\n",
       "\n",
       "[1411 rows x 3 columns]"
      ]
     },
     "execution_count": 46,
     "metadata": {},
     "output_type": "execute_result"
    }
   ],
   "source": [
    "sql = \"\"\"\n",
    "SELECT trap_id, date_deployed AS end_date, 0 as ntrapped\n",
    "FROM trap\n",
    "WHERE trap_id LIKE 'PA%'\n",
    "\"\"\"\n",
    "df = df.append(pd.io.sql.read_sql(sql, conn))\n",
    "pd.set_option('display.max_rows', 2)\n",
    "df"
   ]
  },
  {
   "cell_type": "code",
   "execution_count": 47,
   "metadata": {
    "collapsed": true
   },
   "outputs": [],
   "source": [
    "conn.close()"
   ]
  },
  {
   "cell_type": "code",
   "execution_count": 48,
   "metadata": {
    "collapsed": false
   },
   "outputs": [
    {
     "data": {
      "text/html": [
       "<div>\n",
       "<table border=\"1\" class=\"dataframe\">\n",
       "  <thead>\n",
       "    <tr style=\"text-align: right;\">\n",
       "      <th></th>\n",
       "      <th>trap_id</th>\n",
       "      <th>end_date</th>\n",
       "      <th>ntrapped</th>\n",
       "      <th>start_date</th>\n",
       "    </tr>\n",
       "  </thead>\n",
       "  <tbody>\n",
       "    <tr>\n",
       "      <th>0</th>\n",
       "      <td>AP004</td>\n",
       "      <td>2016-04-26</td>\n",
       "      <td>0</td>\n",
       "      <td>2016-03-29</td>\n",
       "    </tr>\n",
       "    <tr>\n",
       "      <th>...</th>\n",
       "      <td>...</td>\n",
       "      <td>...</td>\n",
       "      <td>...</td>\n",
       "      <td>...</td>\n",
       "    </tr>\n",
       "    <tr>\n",
       "      <th>1410</th>\n",
       "      <td>AP058</td>\n",
       "      <td>None</td>\n",
       "      <td>0</td>\n",
       "      <td>NaN</td>\n",
       "    </tr>\n",
       "  </tbody>\n",
       "</table>\n",
       "<p>1411 rows × 4 columns</p>\n",
       "</div>"
      ],
      "text/plain": [
       "     trap_id    end_date  ntrapped  start_date\n",
       "0      AP004  2016-04-26         0  2016-03-29\n",
       "...      ...         ...       ...         ...\n",
       "1410   AP058        None         0         NaN\n",
       "\n",
       "[1411 rows x 4 columns]"
      ]
     },
     "execution_count": 48,
     "metadata": {},
     "output_type": "execute_result"
    }
   ],
   "source": [
    "df.sort('end_date', ascending=False, inplace=True)\n",
    "df.reset_index(drop=True,inplace=True)\n",
    "\n",
    "#And here's a function that, for each group, appends the previous date:\n",
    "\n",
    "def prev_dates(g):\n",
    "    g.sort(columns=['end_date'])\n",
    "    g['start_date'] = g.end_date.shift(-1)\n",
    "    return g\n",
    "\n",
    "#So all that's needed is to connect things:\n",
    "\n",
    "df = df.groupby(df.trap_id).apply(prev_dates)\n",
    "pd.set_option('display.max_rows', 2)\n",
    "df"
   ]
  },
  {
   "cell_type": "code",
   "execution_count": 49,
   "metadata": {
    "collapsed": false
   },
   "outputs": [
    {
     "name": "stderr",
     "output_type": "stream",
     "text": [
      "/home/aubreymoore/anaconda/lib/python2.7/site-packages/IPython/kernel/__main__.py:2: SettingWithCopyWarning: \n",
      "A value is trying to be set on a copy of a slice from a DataFrame\n",
      "\n",
      "See the the caveats in the documentation: http://pandas.pydata.org/pandas-docs/stable/indexing.html#indexing-view-versus-copy\n",
      "  from IPython.kernel.zmq import kernelapp as app\n"
     ]
    },
    {
     "data": {
      "text/html": [
       "<div>\n",
       "<table border=\"1\" class=\"dataframe\">\n",
       "  <thead>\n",
       "    <tr style=\"text-align: right;\">\n",
       "      <th></th>\n",
       "      <th>trap_id</th>\n",
       "      <th>start_date</th>\n",
       "      <th>end_date</th>\n",
       "      <th>ntrapped</th>\n",
       "    </tr>\n",
       "  </thead>\n",
       "  <tbody>\n",
       "    <tr>\n",
       "      <th>0</th>\n",
       "      <td>AP004</td>\n",
       "      <td>2016-03-29</td>\n",
       "      <td>2016-04-26</td>\n",
       "      <td>0</td>\n",
       "    </tr>\n",
       "    <tr>\n",
       "      <th>...</th>\n",
       "      <td>...</td>\n",
       "      <td>...</td>\n",
       "      <td>...</td>\n",
       "      <td>...</td>\n",
       "    </tr>\n",
       "    <tr>\n",
       "      <th>1370</th>\n",
       "      <td>AP037</td>\n",
       "      <td>2015-04-08</td>\n",
       "      <td>2015-04-13</td>\n",
       "      <td>0</td>\n",
       "    </tr>\n",
       "  </tbody>\n",
       "</table>\n",
       "<p>1331 rows × 4 columns</p>\n",
       "</div>"
      ],
      "text/plain": [
       "     trap_id  start_date    end_date  ntrapped\n",
       "0      AP004  2016-03-29  2016-04-26         0\n",
       "...      ...         ...         ...       ...\n",
       "1370   AP037  2015-04-08  2015-04-13         0\n",
       "\n",
       "[1331 rows x 4 columns]"
      ]
     },
     "execution_count": 49,
     "metadata": {},
     "output_type": "execute_result"
    }
   ],
   "source": [
    "df = df[['trap_id', 'start_date','end_date','ntrapped']]\n",
    "df.dropna(inplace=True)\n",
    "df.to_csv('PA_trap_catch.csv', index=False)\n",
    "pd.set_option('display.max_rows', 2)\n",
    "df"
   ]
  }
 ],
 "metadata": {
  "kernelspec": {
   "display_name": "Python 2",
   "language": "python",
   "name": "python2"
  },
  "language_info": {
   "codemirror_mode": {
    "name": "ipython",
    "version": 2
   },
   "file_extension": ".py",
   "mimetype": "text/x-python",
   "name": "python",
   "nbconvert_exporter": "python",
   "pygments_lexer": "ipython2",
   "version": "2.7.10"
  }
 },
 "nbformat": 4,
 "nbformat_minor": 0
}
